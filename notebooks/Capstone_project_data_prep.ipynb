{
 "cells": [
  {
   "cell_type": "code",
   "execution_count": 2,
   "id": "3e21a3c3-47c0-4e56-9890-cae20b3f82b3",
   "metadata": {},
   "outputs": [
    {
     "name": "stdout",
     "output_type": "stream",
     "text": [
      "Requirement already satisfied: pandas in /opt/anaconda3/lib/python3.12/site-packages (2.2.2)\n",
      "Requirement already satisfied: tqdm in /opt/anaconda3/lib/python3.12/site-packages (4.66.5)\n",
      "Requirement already satisfied: numpy in /opt/anaconda3/lib/python3.12/site-packages (1.26.4)\n",
      "Requirement already satisfied: python-dateutil>=2.8.2 in /opt/anaconda3/lib/python3.12/site-packages (from pandas) (2.9.0.post0)\n",
      "Requirement already satisfied: pytz>=2020.1 in /opt/anaconda3/lib/python3.12/site-packages (from pandas) (2024.1)\n",
      "Requirement already satisfied: tzdata>=2022.7 in /opt/anaconda3/lib/python3.12/site-packages (from pandas) (2023.3)\n",
      "Requirement already satisfied: six>=1.5 in /opt/anaconda3/lib/python3.12/site-packages (from python-dateutil>=2.8.2->pandas) (1.16.0)\n",
      "Note: you may need to restart the kernel to use updated packages.\n"
     ]
    }
   ],
   "source": [
    "#pip install pandas tqdm numpy"
   ]
  },
  {
   "cell_type": "code",
   "execution_count": 3,
   "id": "9387a6d4-dbf4-4d40-9b95-dc937e39c178",
   "metadata": {},
   "outputs": [
    {
     "name": "stdout",
     "output_type": "stream",
     "text": [
      "🔄 Loading and normalizing CSV files...\n",
      "\n"
     ]
    },
    {
     "name": "stderr",
     "output_type": "stream",
     "text": [
      "100%|█████████████████████████████████████████████| 8/8 [00:16<00:00,  2.02s/it]\n"
     ]
    },
    {
     "name": "stdout",
     "output_type": "stream",
     "text": [
      "\n",
      "📦 Concatenating valid files...\n",
      "✅ Multi-class dataset saved to: CICIDS2017_cleaned_multiclass.csv\n",
      "✅ Binary dataset saved to: CICIDS2017_cleaned.csv\n",
      "\n",
      "🔍 Dataset summary:\n",
      "Multi-class label distribution:\n",
      "label\n",
      "BENIGN                        2271320\n",
      "DoS Hulk                       230124\n",
      "PortScan                       158804\n",
      "DDoS                           128025\n",
      "DoS GoldenEye                   10293\n",
      "FTP-Patator                      7935\n",
      "SSH-Patator                      5897\n",
      "DoS slowloris                    5796\n",
      "DoS Slowhttptest                 5499\n",
      "Bot                              1956\n",
      "Web Attack � Brute Force         1507\n",
      "Web Attack � XSS                  652\n",
      "Infiltration                       36\n",
      "Web Attack � Sql Injection         21\n",
      "Heartbleed                         11\n",
      "Name: count, dtype: int64\n",
      "\n",
      "Binary label distribution:\n",
      "label\n",
      "0    2271320\n",
      "1     556556\n",
      "Name: count, dtype: int64\n"
     ]
    }
   ],
   "source": [
    "import os\n",
    "import pandas as pd\n",
    "import numpy as np\n",
    "from tqdm import tqdm\n",
    "\n",
    "# Path to the extracted CSV files (adjust this path as needed)\n",
    "DATA_DIR = 'CICIDS2017/MachineLearningCVE'\n",
    "\n",
    "# List all .csv files\n",
    "csv_files = [f for f in os.listdir(DATA_DIR) if f.endswith('.csv')]\n",
    "\n",
    "# Combine all files\n",
    "df_list = []\n",
    "\n",
    "print(\"🔄 Loading and normalizing CSV files...\\n\")\n",
    "for file in tqdm(csv_files):\n",
    "    file_path = os.path.join(DATA_DIR, file)\n",
    "    try:\n",
    "        df = pd.read_csv(file_path, low_memory=False)\n",
    "\n",
    "        # Normalize column names\n",
    "        df.columns = df.columns.str.strip().str.replace('\\r', '', regex=False).str.replace('\\n', '', regex=False).str.lower()\n",
    "\n",
    "        # Only keep if 'label' column is present\n",
    "        if 'label' in df.columns:\n",
    "            df_list.append(df)\n",
    "        else:\n",
    "            print(f\"⚠️ Skipped {file}: 'label' column not found.\")\n",
    "\n",
    "    except Exception as e:\n",
    "        print(f\"❌ Error reading {file}: {e}\")\n",
    "\n",
    "# Combine all valid DataFrames\n",
    "print(\"\\n📦 Concatenating valid files...\")\n",
    "full_df = pd.concat(df_list, ignore_index=True)\n",
    "\n",
    "# Replace infinities with NaNs and drop\n",
    "full_df.replace([np.inf, -np.inf], np.nan, inplace=True)\n",
    "full_df.dropna(axis=1, how='all', inplace=True)\n",
    "full_df.dropna(inplace=True)\n",
    "\n",
    "# Drop irrelevant non-numeric columns if present\n",
    "non_numeric = ['flow id', 'source ip', 'destination ip', 'timestamp']\n",
    "for col in non_numeric:\n",
    "    if col in full_df.columns:\n",
    "        full_df.drop(columns=[col], inplace=True)\n",
    "\n",
    "# ----- MULTI-CLASS CLEANING -----\n",
    "df_multi = full_df.copy()\n",
    "\n",
    "# Normalize multi-class label text\n",
    "df_multi['label'] = df_multi['label'].astype(str).str.strip()\n",
    "\n",
    "# Save multi-class cleaned version\n",
    "multi_output = 'CICIDS2017_cleaned_multiclass.csv'\n",
    "df_multi.to_csv(multi_output, index=False)\n",
    "print(f\"✅ Multi-class dataset saved to: {multi_output}\")\n",
    "\n",
    "# ----- BINARY CLEANING -----\n",
    "df_binary = df_multi.copy()\n",
    "df_binary['label'] = df_binary['label'].apply(lambda x: 0 if 'BENIGN' in x.upper() else 1)\n",
    "\n",
    "# Save binary cleaned version\n",
    "binary_output = 'CICIDS2017_cleaned.csv'\n",
    "df_binary.to_csv(binary_output, index=False)\n",
    "print(f\"✅ Binary dataset saved to: {binary_output}\")\n",
    "\n",
    "# Final stats\n",
    "print(\"\\n🔍 Dataset summary:\")\n",
    "print(\"Multi-class label distribution:\")\n",
    "print(df_multi['label'].value_counts())\n",
    "\n",
    "print(\"\\nBinary label distribution:\")\n",
    "print(df_binary['label'].value_counts())\n"
   ]
  },
  {
   "cell_type": "code",
   "execution_count": null,
   "id": "eaed8e6e-afd4-49c1-93ae-4f6856c464fd",
   "metadata": {},
   "outputs": [],
   "source": []
  }
 ],
 "metadata": {
  "kernelspec": {
   "display_name": "Python [conda env:base] *",
   "language": "python",
   "name": "conda-base-py"
  },
  "language_info": {
   "codemirror_mode": {
    "name": "ipython",
    "version": 3
   },
   "file_extension": ".py",
   "mimetype": "text/x-python",
   "name": "python",
   "nbconvert_exporter": "python",
   "pygments_lexer": "ipython3",
   "version": "3.12.7"
  }
 },
 "nbformat": 4,
 "nbformat_minor": 5
}
